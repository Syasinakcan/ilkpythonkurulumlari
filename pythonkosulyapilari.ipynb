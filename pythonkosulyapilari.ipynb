{
  "nbformat": 4,
  "nbformat_minor": 0,
  "metadata": {
    "colab": {
      "provenance": []
    },
    "kernelspec": {
      "name": "python3",
      "display_name": "Python 3"
    },
    "language_info": {
      "name": "python"
    }
  },
  "cells": [
    {
      "cell_type": "code",
      "execution_count": null,
      "metadata": {
        "colab": {
          "base_uri": "https://localhost:8080/"
        },
        "id": "wRzq3rxIyULe",
        "outputId": "4cc6ae3a-41d7-4c02-d288-112e56cd0993"
      },
      "outputs": [
        {
          "output_type": "stream",
          "name": "stdout",
          "text": [
            "Merhaba, İGÜ - İSTKA / DERS 4\n"
          ]
        }
      ],
      "source": [
        "print(\"Merhaba, İGÜ - İSTKA / DERS 4\")"
      ]
    },
    {
      "cell_type": "code",
      "source": [
        "import sys        # import pyhton programlama dilinde yazılıma kütüphane eklemeye yarayan bir koddur.\n",
        "print(sys.version)"
      ],
      "metadata": {
        "id": "nMMKj2fayzh_",
        "colab": {
          "base_uri": "https://localhost:8080/"
        },
        "outputId": "c8486287-4767-4096-d71a-534c1a897b01"
      },
      "execution_count": null,
      "outputs": [
        {
          "output_type": "stream",
          "name": "stdout",
          "text": [
            "3.10.12 (main, Jul 29 2024, 16:56:48) [GCC 11.4.0]\n"
          ]
        }
      ]
    },
    {
      "cell_type": "code",
      "source": [
        "from google.colab import drive   # google colab - drive bağlantısı\n",
        "drive.mount('/content/drive')"
      ],
      "metadata": {
        "colab": {
          "base_uri": "https://localhost:8080/"
        },
        "id": "4-NORkEszVyn",
        "outputId": "9df36246-8054-4357-9cf2-9f46d247a504"
      },
      "execution_count": 7,
      "outputs": [
        {
          "output_type": "stream",
          "name": "stdout",
          "text": [
            "Drive already mounted at /content/drive; to attempt to forcibly remount, call drive.mount(\"/content/drive\", force_remount=True).\n"
          ]
        }
      ]
    },
    {
      "cell_type": "code",
      "source": [
        "import os\n",
        "os.chdir('/content/drive/My Drive/VERIYAPILARI_ISTKA')\n",
        "!pwd      # kodun çıktısnı dosya yolu olarak veren kod bloğudur."
      ],
      "metadata": {
        "colab": {
          "base_uri": "https://localhost:8080/"
        },
        "id": "QD9FZRK7zg04",
        "outputId": "2c9e241f-5ee8-46e4-e3c8-f53f07ea989d"
      },
      "execution_count": null,
      "outputs": [
        {
          "output_type": "stream",
          "name": "stdout",
          "text": [
            "/content/drive/My Drive/VERIYAPILARI_ISTKA\n"
          ]
        }
      ]
    },
    {
      "cell_type": "code",
      "source": [
        "# if koşul yapısı\n",
        "x = 30\n",
        "if x > 5:\n",
        "  print(\"x, 5'ten büyüktür\")"
      ],
      "metadata": {
        "colab": {
          "base_uri": "https://localhost:8080/"
        },
        "id": "cDZELdFSG7ZE",
        "outputId": "9e047780-7ded-4905-f453-dcd9a23ea367"
      },
      "execution_count": 8,
      "outputs": [
        {
          "output_type": "stream",
          "name": "stdout",
          "text": [
            "x, 5'ten büyüktür\n"
          ]
        }
      ]
    },
    {
      "cell_type": "code",
      "source": [
        "# if-else Koşulu Yapısı\n",
        "x = 1\n",
        "if x > 5:\n",
        "  print(\"x, 5'ten büyüktür\")\n",
        "else:\n",
        "  print(\"x, 5'ten küçük veya eşittir\")"
      ],
      "metadata": {
        "colab": {
          "base_uri": "https://localhost:8080/"
        },
        "id": "56i3vZINIX5M",
        "outputId": "3e31a3fc-a01b-48eb-d5c7-8e1b8ab50b42"
      },
      "execution_count": 17,
      "outputs": [
        {
          "output_type": "stream",
          "name": "stdout",
          "text": [
            "x, 5'ten küçük veya eşittir\n"
          ]
        }
      ]
    },
    {
      "cell_type": "code",
      "source": [
        "# if-elif-else Koşul Yapısı\n",
        "x = 9\n",
        "if x > 10:\n",
        "  print(\"x, 10'dan büyüktür\")\n",
        "elif x > 5:\n",
        "   print(\"x, 5'ten büyüktür ama 10'dan küçük veya eşittir\")\n",
        "else:\n",
        "   print(\"x, 5'ten küçük veya eşittir\")"
      ],
      "metadata": {
        "colab": {
          "base_uri": "https://localhost:8080/"
        },
        "id": "AJvynVJmJlYO",
        "outputId": "d562b54a-4e47-4748-f6b4-5f0a0ca5643d"
      },
      "execution_count": 23,
      "outputs": [
        {
          "output_type": "stream",
          "name": "stdout",
          "text": [
            "x, 5'ten büyüktür ama 10'dan küçük veya eşittir\n"
          ]
        }
      ]
    },
    {
      "cell_type": "code",
      "source": [
        "# iç içe koşul yapısı\n",
        "x = 15\n",
        "y = 6\n",
        "if x > 10:\n",
        "  if x > 5:\n",
        "    print(\"x, 10'dan büyük ve y 5'ten büyüktür\")\n",
        "  else:\n",
        "   print(\"x, 10'dan büyük ama y 5'ten küçük veya eşittir\")\n",
        "else:\n",
        "  print(\"x, 10'dan küçük veya eşittir\")"
      ],
      "metadata": {
        "colab": {
          "base_uri": "https://localhost:8080/"
        },
        "id": "rsCKmR0NLDxf",
        "outputId": "672e4ff8-6566-4c17-9533-46b30e93958b"
      },
      "execution_count": 22,
      "outputs": [
        {
          "output_type": "stream",
          "name": "stdout",
          "text": [
            "x, 10'dan büyük ve y 5'ten büyüktür\n"
          ]
        }
      ]
    },
    {
      "cell_type": "code",
      "source": [
        "# Mantıksal Operatörler İle Koşullar\n",
        "x = 8\n",
        "Y = 4\n",
        "# and operatörü ile\n",
        "if x > 5  and y > 2:\n",
        "  print(\"x, 5'ten büyük ve y'den büyüktür\")\n",
        "\n",
        "# or operatörü ile\n",
        "if x > 5 or y > 5:\n",
        "  print(\"x veya y , 5'ten büyüktür\")\n",
        "\n",
        "# not operatörü ile\n",
        "if not (x > 10):\n",
        "  print(\"x, 10'dan büyük değildir\")\n"
      ],
      "metadata": {
        "colab": {
          "base_uri": "https://localhost:8080/"
        },
        "id": "CopUvbznOBQr",
        "outputId": "916a5ceb-65b5-42ac-f11f-8d06e9ebcfaa"
      },
      "execution_count": 24,
      "outputs": [
        {
          "output_type": "stream",
          "name": "stdout",
          "text": [
            "x, 5'ten büyük ve y'den büyüktür\n",
            "x veya y , 5'ten büyüktür\n",
            "x, 10'dan büyük değildir\n"
          ]
        }
      ]
    },
    {
      "cell_type": "code",
      "source": [
        "# Örnek 1 : Not Sistemi\n",
        "notu = 85\n",
        "if notu >=90:\n",
        "  print(\"Harf Notu: A \")\n",
        "elif notu >=80:\n",
        "  print(\"Harf Notu: B\")\n",
        "elif notu >=70:\n",
        "  print(\"Harf Notu: C\")\n",
        "elif notu >=60:\n",
        "  print(\"Harf Notu: D\")\n",
        "else:\n",
        "  print(\"Harf Notu: F\")"
      ],
      "metadata": {
        "colab": {
          "base_uri": "https://localhost:8080/"
        },
        "id": "KPF7I2OSR8x_",
        "outputId": "467bdccc-eed8-4d37-a037-1eeaad65ac59"
      },
      "execution_count": 27,
      "outputs": [
        {
          "output_type": "stream",
          "name": "stdout",
          "text": [
            "Harf Notu: B\n"
          ]
        }
      ]
    },
    {
      "cell_type": "code",
      "source": [
        "# Örnek 2 : Yaş Kontrolü\n",
        "yas = 20\n",
        "if yas < 18:\n",
        "  print(\"Reşit Değilsiniz\")\n",
        "elif yas < 21:\n",
        "  print(\"Reşitsiniz ama içecek satın alamazsınız\")\n",
        "else:\n",
        "  print(\"İçecek Satın Alabilirsiniz\")"
      ],
      "metadata": {
        "colab": {
          "base_uri": "https://localhost:8080/"
        },
        "id": "6zdm-7zPT4CS",
        "outputId": "d7368a91-fe50-4ab7-d358-d466c7bd7220"
      },
      "execution_count": 28,
      "outputs": [
        {
          "output_type": "stream",
          "name": "stdout",
          "text": [
            "Reşitsiniz ama içecek satın alamazsınız\n"
          ]
        }
      ]
    },
    {
      "cell_type": "code",
      "source": [
        "# Örnek 3: SAyı Pozitif, Negatif veya Sıfır mı ?\n",
        "sayi = int(input(\"Bir Sayı Girin\"))\n",
        "if sayi > 0:\n",
        "  print(\"Sayı pozitiftir.\")\n",
        "elif sayi < 0:\n",
        "  print(\"Sayı negatiftir.\")\n",
        "else:\n",
        "  print(\"Sayı sıfırdır.\")"
      ],
      "metadata": {
        "colab": {
          "base_uri": "https://localhost:8080/"
        },
        "id": "sxAc0eIAUss3",
        "outputId": "57912a95-d6ca-41a3-e2e6-485e9d67b11a"
      },
      "execution_count": 37,
      "outputs": [
        {
          "output_type": "stream",
          "name": "stdout",
          "text": [
            "Bir Sayı Girin10\n",
            "Sayı pozitiftir.\n"
          ]
        }
      ]
    }
  ]
}